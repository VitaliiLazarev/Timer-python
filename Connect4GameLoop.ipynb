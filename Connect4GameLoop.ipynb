{
 "cells": [
  {
   "cell_type": "raw",
   "id": "3de7464d-ede2-4497-8358-ca338303a76d",
   "metadata": {},
   "source": [
    "\n",
    "Start with empty board\n",
    "\n",
    "Loop:\n",
    "    Display the board\n",
    "    Ask for token from alternate users - INPUT\n",
    "    Drop the token (if allowed)\n",
    "    Check for a win - break the loop if there's a winner\n",
    "    Break the loop if there's nowhere else to drop a token\n"
   ]
  },
  {
   "cell_type": "code",
   "execution_count": null,
   "id": "08fe4517-5e69-40f7-8461-10a6820db1ae",
   "metadata": {},
   "outputs": [],
   "source": [
    "from connect4code import *"
   ]
  },
  {
   "cell_type": "code",
   "execution_count": null,
   "id": "6b360565-e01b-4b77-8e24-2e97adb5d1ab",
   "metadata": {},
   "outputs": [],
   "source": [
    "reset_board()"
   ]
  },
  {
   "cell_type": "code",
   "execution_count": null,
   "id": "20642b0a-0c38-488e-b403-4a61cf56b304",
   "metadata": {},
   "outputs": [],
   "source": [
    "display_board()"
   ]
  },
  {
   "cell_type": "code",
   "execution_count": null,
   "id": "2bc60cbe-35b8-4c68-aafe-4349edc5a7ea",
   "metadata": {},
   "outputs": [],
   "source": [
    "from connect4code import *\n",
    "\n",
    "reset_board()\n",
    "display_board()\n",
    "player = \"X\"\n",
    "while True:\n",
    "    print(\"Player\", player, \"is up next.\")\n",
    "    selection = input(\"Enter an number from 1 to 7: \")\n",
    "    selection = int(selection)\n",
    "    drop_token(player, selection)\n",
    "    display_board()\n",
    "    if player == \"X\":\n",
    "        player = \"O\"\n",
    "    else:\n",
    "        player = \"X\"\n",
    "    break"
   ]
  },
  {
   "cell_type": "code",
   "execution_count": null,
   "id": "6bccbf02-6843-4d89-9ef1-3bfa796e09d3",
   "metadata": {},
   "outputs": [],
   "source": [
    "from connect4code import *\n",
    "\n",
    "reset_board()\n",
    "display_board()\n",
    "player = \"X\"\n",
    "while True:\n",
    "    print()\n",
    "    print(\"Player\", player, \"is up next.\")\n",
    "    selection = input(\"Enter an number from 1 to 7: \")\n",
    "    selection = int(selection)\n",
    "    drop_token(player, selection)\n",
    "    print()\n",
    "    display_board()\n",
    "    winner = do_we_have_a_win(player)\n",
    "    if winner:\n",
    "        print()\n",
    "        print(\"Congrats! Player\", player, \"wins!!!!\")\n",
    "        break\n",
    "    if player == \"X\":\n",
    "        player = \"O\"\n",
    "    else:\n",
    "        player = \"X\"\n"
   ]
  },
  {
   "cell_type": "code",
   "execution_count": null,
   "id": "f75cc933-bb80-4054-aea8-642bcf13d886",
   "metadata": {},
   "outputs": [],
   "source": []
  }
 ],
 "metadata": {
  "kernelspec": {
   "display_name": "Python 3 (ipykernel)",
   "language": "python",
   "name": "python3"
  },
  "language_info": {
   "codemirror_mode": {
    "name": "ipython",
    "version": 3
   },
   "file_extension": ".py",
   "mimetype": "text/x-python",
   "name": "python",
   "nbconvert_exporter": "python",
   "pygments_lexer": "ipython3",
   "version": "3.13.5"
  }
 },
 "nbformat": 4,
 "nbformat_minor": 5
}
