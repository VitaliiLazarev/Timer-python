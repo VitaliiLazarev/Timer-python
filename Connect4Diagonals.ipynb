{
 "cells": [
  {
   "cell_type": "code",
   "execution_count": null,
   "id": "21f67b27-3abd-4a66-b40a-60419f0bf7cc",
   "metadata": {},
   "outputs": [],
   "source": [
    "from connect4code import *"
   ]
  },
  {
   "cell_type": "code",
   "execution_count": null,
   "id": "e444b198-b952-4b69-a34f-c953f3c1dbe7",
   "metadata": {},
   "outputs": [],
   "source": [
    "reset_board()"
   ]
  },
  {
   "cell_type": "code",
   "execution_count": null,
   "id": "e6aef396-1b8a-430f-8e11-5e1035b3a855",
   "metadata": {},
   "outputs": [],
   "source": [
    "from diagonals import *"
   ]
  },
  {
   "cell_type": "code",
   "execution_count": null,
   "id": "25fd8ab7-c450-4ed5-8fbf-0b5f93d4721a",
   "metadata": {},
   "outputs": [],
   "source": [
    "print(dir())"
   ]
  },
  {
   "cell_type": "code",
   "execution_count": null,
   "id": "4bcedd63-ff2a-4ae6-ad72-589ba8ba62dd",
   "metadata": {},
   "outputs": [],
   "source": [
    "help(extract_four_element_diagonals)"
   ]
  },
  {
   "cell_type": "code",
   "execution_count": null,
   "id": "e3e199ef-5680-4b42-9060-19d8ed7d8c1f",
   "metadata": {},
   "outputs": [],
   "source": [
    "fours = extract_four_element_diagonals(the_board)"
   ]
  },
  {
   "cell_type": "code",
   "execution_count": null,
   "id": "7ad6ffb2-7c36-46b1-86fa-78b112df54e0",
   "metadata": {},
   "outputs": [],
   "source": [
    "four_strings = [\"\".join(d) for d in fours]"
   ]
  },
  {
   "cell_type": "code",
   "execution_count": null,
   "id": "e82700f8-7664-406f-a889-efd6b9f36889",
   "metadata": {},
   "outputs": [],
   "source": [
    "four_strings[:5]"
   ]
  },
  {
   "cell_type": "code",
   "execution_count": null,
   "id": "2e14575d-5553-465f-9a9f-caac43f41a8b",
   "metadata": {},
   "outputs": [],
   "source": [
    "len(four_strings)"
   ]
  },
  {
   "cell_type": "code",
   "execution_count": null,
   "id": "b93fa8fd-94d6-4af5-9196-9c0e9f538217",
   "metadata": {},
   "outputs": [],
   "source": [
    "\"XXXX\" in four_strings"
   ]
  },
  {
   "cell_type": "code",
   "execution_count": null,
   "id": "23cbb0f8-4e5f-4083-ae35-e36ff7c4f9e9",
   "metadata": {},
   "outputs": [],
   "source": [
    "\"OOOO\" in four_strings"
   ]
  },
  {
   "cell_type": "code",
   "execution_count": null,
   "id": "33dbe1a4-4a7a-42ad-84a9-4342ded95b13",
   "metadata": {},
   "outputs": [],
   "source": [
    "drop_token(\"X\", 1)\n",
    "drop_token(\"O\", 2)\n",
    "drop_token(\"X\", 2)\n",
    "drop_token(\"O\", 3)\n",
    "drop_token(\"X\", 3)\n",
    "drop_token(\"O\", 4)\n",
    "drop_token(\"X\", 3)\n",
    "drop_token(\"O\", 4)\n",
    "drop_token(\"X\", 4)\n",
    "drop_token(\"O\", 3)\n",
    "drop_token(\"X\", 4)"
   ]
  },
  {
   "cell_type": "code",
   "execution_count": null,
   "id": "51f31e3b-0dc8-4a0f-b909-467ab4c78434",
   "metadata": {},
   "outputs": [],
   "source": [
    "display_board()"
   ]
  },
  {
   "cell_type": "code",
   "execution_count": null,
   "id": "2c6a9db6-e78e-445f-af01-8ebc55d95ae7",
   "metadata": {},
   "outputs": [],
   "source": [
    "fours = extract_four_element_diagonals(the_board)\n",
    "four_strings = [\"\".join(d) for d in fours]"
   ]
  },
  {
   "cell_type": "code",
   "execution_count": null,
   "id": "25edf6af-aace-401d-a0b6-a1cc1af72600",
   "metadata": {},
   "outputs": [],
   "source": [
    "\"XXXX\" in four_strings"
   ]
  },
  {
   "cell_type": "code",
   "execution_count": null,
   "id": "73564728-51c9-472c-af18-10f661734e30",
   "metadata": {},
   "outputs": [],
   "source": [
    "\"OOOO\" in four_strings"
   ]
  },
  {
   "cell_type": "code",
   "execution_count": null,
   "id": "d0160f0f-f4aa-4a91-8b4a-98929c078e14",
   "metadata": {},
   "outputs": [],
   "source": [
    "drop_token(\"O\", 5)\n",
    "display_board()"
   ]
  },
  {
   "cell_type": "code",
   "execution_count": null,
   "id": "afc59874-7c1d-4e70-be4d-8c9d0e8ede5c",
   "metadata": {},
   "outputs": [],
   "source": [
    "\"OOOO\" in four_strings"
   ]
  },
  {
   "cell_type": "markdown",
   "id": "affeec33-b452-4719-b655-2f182a634fa3",
   "metadata": {},
   "source": [
    "## Review the updated code in connect4code.py"
   ]
  },
  {
   "cell_type": "code",
   "execution_count": null,
   "id": "8b69a8e9-8820-4293-8e19-7aa07b0ac026",
   "metadata": {},
   "outputs": [],
   "source": [
    "do_we_have_a_win(\"O\")"
   ]
  },
  {
   "cell_type": "code",
   "execution_count": null,
   "id": "b4560a9e-021c-428e-8f30-907260799b80",
   "metadata": {},
   "outputs": [],
   "source": [
    "do_we_have_a_win(\"X\")"
   ]
  },
  {
   "cell_type": "code",
   "execution_count": null,
   "id": "3924f897-48a4-45f3-920d-9c82e3bfdeb1",
   "metadata": {},
   "outputs": [],
   "source": [
    "for _ in range(3):\n",
    "    drop_token(\"O\", 5)\n",
    "display_board()"
   ]
  },
  {
   "cell_type": "code",
   "execution_count": null,
   "id": "8e4a49a1-42c7-4b5c-aa50-86a2339a2e8c",
   "metadata": {},
   "outputs": [],
   "source": [
    "do_we_have_a_win(\"O\")"
   ]
  },
  {
   "cell_type": "code",
   "execution_count": null,
   "id": "7e136fb3-db7c-480e-9caa-f9f75110f866",
   "metadata": {},
   "outputs": [],
   "source": [
    "the_board"
   ]
  },
  {
   "cell_type": "code",
   "execution_count": null,
   "id": "a5cfa65a-4ba3-48fa-92b9-57de47664196",
   "metadata": {},
   "outputs": [],
   "source": [
    "the_board[0][3]"
   ]
  },
  {
   "cell_type": "code",
   "execution_count": null,
   "id": "d25d86de-0869-46ae-a40e-300c0bc24866",
   "metadata": {},
   "outputs": [],
   "source": [
    "the_board[0][3] = \"X\"\n",
    "display_board()"
   ]
  },
  {
   "cell_type": "code",
   "execution_count": null,
   "id": "99d52c05-a15e-4811-893d-70d75d17a4bb",
   "metadata": {},
   "outputs": [],
   "source": [
    "do_we_have_a_win(\"O\")"
   ]
  },
  {
   "cell_type": "code",
   "execution_count": null,
   "id": "5560dd61-f87c-4a4c-9fad-19da405120ad",
   "metadata": {},
   "outputs": [],
   "source": []
  }
 ],
 "metadata": {
  "kernelspec": {
   "display_name": "Python 3 (ipykernel)",
   "language": "python",
   "name": "python3"
  },
  "language_info": {
   "codemirror_mode": {
    "name": "ipython",
    "version": 3
   },
   "file_extension": ".py",
   "mimetype": "text/x-python",
   "name": "python",
   "nbconvert_exporter": "python",
   "pygments_lexer": "ipython3",
   "version": "3.13.5"
  }
 },
 "nbformat": 4,
 "nbformat_minor": 5
}
