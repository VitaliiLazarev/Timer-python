{
 "cells": [
  {
   "cell_type": "code",
   "execution_count": null,
   "id": "bc7e72a4-622c-4c1d-8e6d-600cd807935c",
   "metadata": {},
   "outputs": [],
   "source": [
    "board = (7, 6)"
   ]
  },
  {
   "cell_type": "code",
   "execution_count": null,
   "id": "ffcd61f2-e47d-4c51-bea3-b26f757becc0",
   "metadata": {},
   "outputs": [],
   "source": [
    "board"
   ]
  },
  {
   "cell_type": "code",
   "execution_count": null,
   "id": "3ff0cb43-66e9-468d-b938-3cae548eb603",
   "metadata": {},
   "outputs": [],
   "source": [
    "cols, rows = board"
   ]
  },
  {
   "cell_type": "code",
   "execution_count": null,
   "id": "2fa5cdc1-4c3f-4550-a7fd-c9ee3af07387",
   "metadata": {},
   "outputs": [],
   "source": [
    "cols, rows"
   ]
  },
  {
   "cell_type": "code",
   "execution_count": null,
   "id": "a3783342-0e7e-45b0-862c-e55f161dcf7a",
   "metadata": {},
   "outputs": [],
   "source": [
    "the_board = []\n",
    "\n",
    "for i in range(rows):\n",
    "    the_board.append([\" \", \" \", \" \", \" \", \" \", \" \", \" \", ])"
   ]
  },
  {
   "cell_type": "code",
   "execution_count": null,
   "id": "51e7c6db-c31f-4c98-8c78-f989f8a39a6d",
   "metadata": {},
   "outputs": [],
   "source": [
    "the_board"
   ]
  },
  {
   "cell_type": "code",
   "execution_count": null,
   "id": "d4dc4a64-55bf-489c-b3f5-c8cdc1ddc36a",
   "metadata": {},
   "outputs": [],
   "source": [
    "the_board = []\n",
    "\n",
    "for i in range(rows):\n",
    "    the_board.append([])\n",
    "    for j in range(cols):\n",
    "        the_board[i].append(\" \")"
   ]
  },
  {
   "cell_type": "code",
   "execution_count": null,
   "id": "b29b6f81-7288-413d-bf6d-13753cb4c039",
   "metadata": {},
   "outputs": [],
   "source": [
    "the_board"
   ]
  },
  {
   "cell_type": "code",
   "execution_count": null,
   "id": "fbea2f08-5ad6-436d-b989-2e801e08b67d",
   "metadata": {},
   "outputs": [],
   "source": [
    "the_board[0][3] = \"X\""
   ]
  },
  {
   "cell_type": "code",
   "execution_count": null,
   "id": "dd978158-858d-44c7-84b8-f5fbff021ce5",
   "metadata": {},
   "outputs": [],
   "source": [
    "the_board"
   ]
  },
  {
   "cell_type": "code",
   "execution_count": null,
   "id": "2e814050-0e0a-4975-9d98-e269e2384a80",
   "metadata": {},
   "outputs": [],
   "source": [
    "the_board[1][3] = \"0\""
   ]
  },
  {
   "cell_type": "code",
   "execution_count": null,
   "id": "e8789177-af32-4c1a-8cd8-b6a4c84566a3",
   "metadata": {},
   "outputs": [],
   "source": [
    "the_board"
   ]
  },
  {
   "cell_type": "code",
   "execution_count": null,
   "id": "a1989a65-39cb-4d73-a71c-087f47bca84c",
   "metadata": {},
   "outputs": [],
   "source": [
    "for row in reversed(the_board):\n",
    "    print(row)"
   ]
  },
  {
   "cell_type": "code",
   "execution_count": null,
   "id": "e5901d53-c221-4b34-8257-be11babe5ba9",
   "metadata": {},
   "outputs": [],
   "source": [
    "user_input = 4"
   ]
  },
  {
   "cell_type": "code",
   "execution_count": null,
   "id": "0152ab48-7633-4178-8157-69d25b2a42ed",
   "metadata": {},
   "outputs": [],
   "source": [
    "found_it = False\n",
    "current_row = 0\n",
    "for row in the_board:\n",
    "    if row[user_input-1] == \" \":\n",
    "        found_it = True\n",
    "        break\n",
    "    current_row = current_row + 1"
   ]
  },
  {
   "cell_type": "code",
   "execution_count": null,
   "id": "299c9cfd-a2f8-4d77-89d3-fecafeff60c2",
   "metadata": {},
   "outputs": [],
   "source": [
    "current_row"
   ]
  },
  {
   "cell_type": "code",
   "execution_count": null,
   "id": "d2b2b526-8cd9-4599-ae2e-6b3736eceb90",
   "metadata": {},
   "outputs": [],
   "source": [
    "user_input - 1"
   ]
  },
  {
   "cell_type": "code",
   "execution_count": null,
   "id": "2b2447c2-bf04-4283-8a51-c19c9499e353",
   "metadata": {},
   "outputs": [],
   "source": [
    "the_board[current_row][user_input -1] = \"X\""
   ]
  },
  {
   "cell_type": "code",
   "execution_count": null,
   "id": "4ec7aa60-a2cf-444a-814a-3ffa11e19df3",
   "metadata": {},
   "outputs": [],
   "source": [
    "for row in reversed(the_board):\n",
    "    print(row)"
   ]
  },
  {
   "cell_type": "code",
   "execution_count": null,
   "id": "58352bca-68f7-4a4f-956b-203f6223455e",
   "metadata": {},
   "outputs": [],
   "source": [
    "user_input = 1\n",
    "user = \"0\"\n",
    "\n",
    "found_it = False\n",
    "for n, row in enumerate(the_board):\n",
    "    if row[user_input-1] == \" \":\n",
    "        found_it = True\n",
    "        break\n",
    "\n",
    "the_board[n][user_input-1] = user"
   ]
  },
  {
   "cell_type": "code",
   "execution_count": null,
   "id": "686e15ff-76b7-4061-9a7a-cc11a0f43fa3",
   "metadata": {},
   "outputs": [],
   "source": [
    "for row in reversed(the_board):\n",
    "    print(row)"
   ]
  },
  {
   "cell_type": "code",
   "execution_count": null,
   "id": "67998a3b-817c-456e-8859-92af9c6eae49",
   "metadata": {},
   "outputs": [],
   "source": [
    "words = [\"one\", \"two\", \"three\"]\n",
    "\n",
    "for n, word in enumerate(words):\n",
    "    print(word, n)"
   ]
  },
  {
   "cell_type": "code",
   "execution_count": null,
   "id": "a86cd529-ee9d-419f-9144-220d08e6221d",
   "metadata": {},
   "outputs": [],
   "source": [
    "user_input = 9\n",
    "user = \"0\"\n",
    "\n",
    "is_there_room = False\n",
    "for n, row in enumerate(the_board):\n",
    "    if row[user_input-1] == \" \":\n",
    "        is_there_room = True\n",
    "        break\n",
    "\n",
    "if is_there_room:\n",
    "    the_board[n][user_input-1] = user\n",
    "else:\n",
    "    print(\"Choose another column.\")"
   ]
  },
  {
   "cell_type": "code",
   "execution_count": null,
   "id": "885b7244-c5f4-469e-8973-3de253a5c034",
   "metadata": {},
   "outputs": [],
   "source": [
    "for row in reversed(the_board):\n",
    "    print(row)"
   ]
  },
  {
   "cell_type": "code",
   "execution_count": null,
   "id": "ca2f1485-a9c9-4879-83e6-ca19ad9f46c7",
   "metadata": {},
   "outputs": [],
   "source": [
    "user_input = 1\n",
    "user = \"X\"\n",
    "inserted = False\n",
    " \n",
    "for row in range(rows):\n",
    "    if the_board[row][user_input-1] == \" \":\n",
    "        the_board[row][user_input-1] = user\n",
    "        inserted = True\n",
    "        break\n",
    "\n",
    "if inserted:\n",
    "    for row in reversed(the_board):\n",
    "        print(row)\n",
    "else:\n",
    "    print(\"Choose another column\")\n",
    " "
   ]
  },
  {
   "cell_type": "code",
   "execution_count": null,
   "id": "7517aced-41dd-4c39-8d1e-4927a116bf50",
   "metadata": {},
   "outputs": [],
   "source": [
    "def play_turn(user_token, column):\n",
    "    inserted = False\n",
    "     \n",
    "    for row in range(rows):\n",
    "        if the_board[row][column-1] == \" \":\n",
    "            the_board[row][column-1] = user_token\n",
    "            return True\n",
    "    return False"
   ]
  },
  {
   "cell_type": "code",
   "execution_count": null,
   "id": "641c419c-4af5-48a4-863c-d1e89873e5f9",
   "metadata": {},
   "outputs": [],
   "source": [
    "for row in reversed(the_board):\n",
    "    print(row)"
   ]
  },
  {
   "cell_type": "code",
   "execution_count": null,
   "id": "e8dd9e46-a93a-4841-a6f8-49b84040e80b",
   "metadata": {},
   "outputs": [],
   "source": [
    "play_turn(\"X\", 4)"
   ]
  },
  {
   "cell_type": "code",
   "execution_count": null,
   "id": "fd4ab934-edcb-4c07-956f-533cbde6d7f0",
   "metadata": {},
   "outputs": [],
   "source": [
    "play_turn(\"X\", 3)"
   ]
  },
  {
   "cell_type": "code",
   "execution_count": null,
   "id": "9f6c6044-2313-422d-86de-256ae115a458",
   "metadata": {},
   "outputs": [],
   "source": [
    "for row in reversed(the_board):\n",
    "    print(row)"
   ]
  },
  {
   "cell_type": "code",
   "execution_count": null,
   "id": "ee9f27eb-e20c-424b-93fa-4a8205999225",
   "metadata": {},
   "outputs": [],
   "source": [
    "def display_board():\n",
    "    for row in reversed(the_board):\n",
    "        print(row)"
   ]
  },
  {
   "cell_type": "code",
   "execution_count": null,
   "id": "17d50bde-b812-4e69-9022-6727723a83e0",
   "metadata": {},
   "outputs": [],
   "source": [
    "display_board()"
   ]
  },
  {
   "cell_type": "code",
   "execution_count": null,
   "id": "a546b154-c867-4356-ad91-e96324b3ff1d",
   "metadata": {},
   "outputs": [],
   "source": []
  }
 ],
 "metadata": {
  "kernelspec": {
   "display_name": "Python 3 (ipykernel)",
   "language": "python",
   "name": "python3"
  },
  "language_info": {
   "codemirror_mode": {
    "name": "ipython",
    "version": 3
   },
   "file_extension": ".py",
   "mimetype": "text/x-python",
   "name": "python",
   "nbconvert_exporter": "python",
   "pygments_lexer": "ipython3",
   "version": "3.13.5"
  }
 },
 "nbformat": 4,
 "nbformat_minor": 5
}
