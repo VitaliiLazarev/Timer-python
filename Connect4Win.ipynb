{
 "cells": [
  {
   "cell_type": "code",
   "execution_count": null,
   "id": "6f55ee9c-5701-41ec-9a64-71fdc7486d58",
   "metadata": {},
   "outputs": [],
   "source": [
    "print(dir())"
   ]
  },
  {
   "cell_type": "code",
   "execution_count": null,
   "id": "e2834832-35e9-47b4-9965-1bcb58a4c601",
   "metadata": {},
   "outputs": [],
   "source": [
    "from connect4code import *"
   ]
  },
  {
   "cell_type": "code",
   "execution_count": null,
   "id": "218dc161-193e-4a91-a224-737b586daa4f",
   "metadata": {},
   "outputs": [],
   "source": [
    "print(dir())"
   ]
  },
  {
   "cell_type": "code",
   "execution_count": null,
   "id": "92700400-ab63-4296-b61c-63e73e4cbb47",
   "metadata": {},
   "outputs": [],
   "source": [
    "the_board"
   ]
  },
  {
   "cell_type": "code",
   "execution_count": null,
   "id": "0d53a976-277d-43a3-b4a2-b7dc45f220ba",
   "metadata": {},
   "outputs": [],
   "source": [
    "reset_board()"
   ]
  },
  {
   "cell_type": "code",
   "execution_count": null,
   "id": "2bf60d2e-c118-43a7-a708-64ffc6d63b68",
   "metadata": {},
   "outputs": [],
   "source": [
    "display_board()"
   ]
  },
  {
   "cell_type": "code",
   "execution_count": null,
   "id": "5c136af1-9ee9-4550-8da9-0675c38cd8cc",
   "metadata": {},
   "outputs": [],
   "source": [
    "drop_token(\"O\", 1)\n",
    "for i in range(4):\n",
    "    drop_token(\"X\", 1)"
   ]
  },
  {
   "cell_type": "code",
   "execution_count": null,
   "id": "c21c111c-0fb0-48d2-b284-ed5c1fdd7e22",
   "metadata": {},
   "outputs": [],
   "source": [
    "display_board()"
   ]
  },
  {
   "cell_type": "code",
   "execution_count": null,
   "id": "b38e7ea4-01eb-411a-afdc-29a3a06dadb0",
   "metadata": {},
   "outputs": [],
   "source": [
    "for i in range(2, 6):\n",
    "    drop_token(\"X\", i)"
   ]
  },
  {
   "cell_type": "code",
   "execution_count": null,
   "id": "9180bc14-ffcc-4295-8edd-b49b260efab1",
   "metadata": {},
   "outputs": [],
   "source": [
    "display_board()"
   ]
  },
  {
   "cell_type": "code",
   "execution_count": null,
   "id": "78e04ad6-2f6f-4193-a390-202c1874cf29",
   "metadata": {},
   "outputs": [],
   "source": [
    "the_board"
   ]
  },
  {
   "cell_type": "code",
   "execution_count": null,
   "id": "02a74bf7-cf30-4d8a-a96b-8f500ed64940",
   "metadata": {},
   "outputs": [],
   "source": [
    "the_board[0]"
   ]
  },
  {
   "cell_type": "code",
   "execution_count": null,
   "id": "217fd450-f309-423a-8770-ff7501a08c53",
   "metadata": {},
   "outputs": [],
   "source": [
    "the_board[0].count(\"X\")"
   ]
  },
  {
   "cell_type": "code",
   "execution_count": null,
   "id": "58e49d6b-6194-47e1-9433-a11e01112333",
   "metadata": {},
   "outputs": [],
   "source": [
    "print(dir(str))"
   ]
  },
  {
   "cell_type": "code",
   "execution_count": null,
   "id": "751ed7a1-bf38-41de-8196-1704322bfd0e",
   "metadata": {},
   "outputs": [],
   "source": [
    "\"\".join(the_board[0])   # Turns the list in a string."
   ]
  },
  {
   "cell_type": "code",
   "execution_count": null,
   "id": "c4671e61-338b-4fb4-b91e-ae5decfe0299",
   "metadata": {},
   "outputs": [],
   "source": [
    "\"XXXX\" in \"\".join(the_board[0])"
   ]
  },
  {
   "cell_type": "code",
   "execution_count": null,
   "id": "0ff8810a-5808-45d8-879f-05e94ea052d3",
   "metadata": {},
   "outputs": [],
   "source": [
    "is_there_a_win = False\n",
    "for i in range(6):\n",
    "    if \"XXXX\" in \"\".join(the_board[i]):\n",
    "        is_there_a_win = True\n",
    "        break\n",
    "if is_there_a_win:\n",
    "    print(\"Yes, one of the rows wins!\")\n",
    "else:\n",
    "    print(\"Keep playing...\")"
   ]
  },
  {
   "cell_type": "code",
   "execution_count": null,
   "id": "4e36fb36-a554-41b9-9d47-129ad19ffcdc",
   "metadata": {},
   "outputs": [],
   "source": [
    "\"X\"*4"
   ]
  },
  {
   "cell_type": "code",
   "execution_count": null,
   "id": "ad2f2c4e-bd54-4414-a73b-aaff3d3dd796",
   "metadata": {},
   "outputs": [],
   "source": [
    "which_token = \"O\"\n",
    "\n",
    "is_there_a_win = False\n",
    "for i in range(6):\n",
    "    if which_token*4 in \"\".join(the_board[i]):\n",
    "        is_there_a_win = True\n",
    "        break\n",
    "if is_there_a_win:\n",
    "    print(\"Yes, one of the rows wins for\", which_token)\n",
    "else:\n",
    "    print(\"Keep playing...\")"
   ]
  },
  {
   "cell_type": "code",
   "execution_count": null,
   "id": "23bc5327-5cc8-458f-8f4f-2e62cc417de9",
   "metadata": {},
   "outputs": [],
   "source": [
    "def do_we_have_a_win(player_token):\n",
    "\n",
    "    # Checks for a horizontal win.\n",
    "    is_there_a_win = False\n",
    "    for i in range(6):\n",
    "        if player_token*4 in \"\".join(the_board[i]):\n",
    "            is_there_a_win = True\n",
    "            break    \n",
    "    return is_there_a_win"
   ]
  },
  {
   "cell_type": "code",
   "execution_count": null,
   "id": "1bb94a05-145e-4d54-b8c8-cd32a0a1f41f",
   "metadata": {},
   "outputs": [],
   "source": [
    "do_we_have_a_win(\"O\")"
   ]
  },
  {
   "cell_type": "code",
   "execution_count": null,
   "id": "18e0dfe2-a6a5-481e-8f15-f5aefac0aa65",
   "metadata": {},
   "outputs": [],
   "source": [
    "do_we_have_a_win(\"X\")"
   ]
  },
  {
   "cell_type": "code",
   "execution_count": null,
   "id": "48f7cb30-621e-420b-af5d-5f9f290c5c99",
   "metadata": {},
   "outputs": [],
   "source": [
    "display_board()"
   ]
  },
  {
   "cell_type": "code",
   "execution_count": null,
   "id": "f82807f7-d2ed-42b5-99fd-8a34397f5bbc",
   "metadata": {},
   "outputs": [],
   "source": [
    "column_id = 0\n",
    "\n",
    "values = []\n",
    "for i in range(6):\n",
    "    values.append(the_board[i][column_id])"
   ]
  },
  {
   "cell_type": "code",
   "execution_count": null,
   "id": "d0629ba8-eb0e-49a5-afd8-da0b8ebbdbd0",
   "metadata": {},
   "outputs": [],
   "source": [
    "values"
   ]
  },
  {
   "cell_type": "code",
   "execution_count": null,
   "id": "0e1799ef-bbdd-423b-b2de-a3d79a220d32",
   "metadata": {},
   "outputs": [],
   "source": [
    "column_id = 0\n",
    "player_token = \"O\"\n",
    "\n",
    "values = []\n",
    "for i in range(6):\n",
    "    values.append(the_board[i][column_id])\n",
    "    \n",
    "if player_token*4 in \"\".join(values):\n",
    "    print(player_token, \"wins!\")\n",
    "else:\n",
    "    print(\"Keep playing...\")"
   ]
  },
  {
   "cell_type": "code",
   "execution_count": null,
   "id": "56df64d1-aa21-45fc-8bcf-8e6286f15b90",
   "metadata": {},
   "outputs": [],
   "source": [
    "player_token = \"X\"\n",
    "\n",
    "for column_id in range(7):\n",
    "    values = []\n",
    "    for i in range(6):\n",
    "        values.append(the_board[i][column_id])\n",
    "        \n",
    "    if player_token*4 in \"\".join(values):\n",
    "        print(player_token, \"wins!\")\n",
    "        break\n",
    "    else:\n",
    "        print(\"Keep playing...\")"
   ]
  },
  {
   "cell_type": "code",
   "execution_count": null,
   "id": "ef78be97-98e0-4ae6-8c06-077387d8837a",
   "metadata": {},
   "outputs": [],
   "source": [
    "def do_we_have_a_win(player_token):\n",
    "\n",
    "    is_there_a_win = False\n",
    "\n",
    "    # Checks for a horizontal win.\n",
    "    for i in range(6):\n",
    "        if player_token*4 in \"\".join(the_board[i]):\n",
    "            is_there_a_win = True\n",
    "            return is_there_a_win\n",
    "\n",
    "    # Checks for a vertical win.\n",
    "    for column_id in range(7):\n",
    "        values = []\n",
    "        for i in range(6):\n",
    "            values.append(the_board[i][column_id])\n",
    "        if player_token*4 in \"\".join(values):\n",
    "            is_there_a_win = True\n",
    "            return is_there_a_win\n",
    "\n",
    "    return is_there_a_win"
   ]
  },
  {
   "cell_type": "code",
   "execution_count": null,
   "id": "06d61033-dff7-4ed0-8327-732306a05cb8",
   "metadata": {},
   "outputs": [],
   "source": [
    "from connect4code import *  # Only works after a Kernel restart."
   ]
  },
  {
   "cell_type": "code",
   "execution_count": null,
   "id": "0e68bcbd-fe1b-440a-814c-6fc090b9fcf3",
   "metadata": {},
   "outputs": [],
   "source": [
    "display_board()"
   ]
  },
  {
   "cell_type": "code",
   "execution_count": null,
   "id": "19ac2f73-16a9-41a2-89ac-27d4294d4701",
   "metadata": {},
   "outputs": [],
   "source": [
    "do_we_have_a_win(\"X\")"
   ]
  },
  {
   "cell_type": "code",
   "execution_count": null,
   "id": "b020c461-a8a1-4a95-944e-5a1e5a230240",
   "metadata": {},
   "outputs": [],
   "source": [
    "do_we_have_a_win(\"O\")"
   ]
  },
  {
   "cell_type": "code",
   "execution_count": null,
   "id": "2e70df50-6813-4d72-b231-6a0036e1187c",
   "metadata": {},
   "outputs": [],
   "source": [
    "drop_token(\"O\", 5)"
   ]
  },
  {
   "cell_type": "code",
   "execution_count": null,
   "id": "e51d60ac-11b2-47ca-856d-2e3aa80ce497",
   "metadata": {},
   "outputs": [],
   "source": [
    "display_board()"
   ]
  },
  {
   "cell_type": "code",
   "execution_count": null,
   "id": "b69b8b2c-2257-444c-a611-4bf53959c37f",
   "metadata": {},
   "outputs": [],
   "source": [
    "do_we_have_a_win(\"X\")"
   ]
  },
  {
   "cell_type": "code",
   "execution_count": null,
   "id": "adbecec4-8e7b-4922-96e0-721b491f8a4a",
   "metadata": {},
   "outputs": [],
   "source": [
    "do_we_have_a_win(\"O\")"
   ]
  },
  {
   "cell_type": "code",
   "execution_count": null,
   "id": "61927a46-dad0-4baf-82b3-4f92f733edee",
   "metadata": {},
   "outputs": [],
   "source": [
    "the_board"
   ]
  },
  {
   "cell_type": "code",
   "execution_count": null,
   "id": "73caa730-d7c4-4e74-9e7f-64c38da476f6",
   "metadata": {},
   "outputs": [],
   "source": [
    "print(repr(the_board[0][0]))\n",
    "print(repr(the_board[1][1]))\n",
    "print(repr(the_board[2][2]))\n",
    "print(repr(the_board[3][3]))"
   ]
  },
  {
   "cell_type": "code",
   "execution_count": null,
   "id": "f37481a1-4967-4896-816e-89a79313b444",
   "metadata": {},
   "outputs": [],
   "source": [
    "(0, 3), (1, 4), (2, 5)  # "
   ]
  },
  {
   "cell_type": "code",
   "execution_count": null,
   "id": "ca185417-bc44-4b90-91e3-43cdc0706731",
   "metadata": {},
   "outputs": [],
   "source": [
    "rows = range(4)\n",
    "cols = range(4)\n",
    "list(zip(rows, cols))"
   ]
  },
  {
   "cell_type": "code",
   "execution_count": null,
   "id": "956a4968-be96-4a0d-a26c-c3b326ba3803",
   "metadata": {},
   "outputs": [],
   "source": [
    "# First diagonal.\n",
    "\n",
    "rows = range(4)\n",
    "cols = range(4)\n",
    "tokens = []\n",
    "for r, c in zip(rows, cols):\n",
    "    tokens.append(the_board[r][c])\n",
    "tokens"
   ]
  },
  {
   "cell_type": "code",
   "execution_count": null,
   "id": "4d3c8152-4d92-4d24-941f-7a95fd962b29",
   "metadata": {},
   "outputs": [],
   "source": [
    "the_board"
   ]
  },
  {
   "cell_type": "code",
   "execution_count": null,
   "id": "581ba449-4318-463a-a196-8bd717e5ef51",
   "metadata": {},
   "outputs": [],
   "source": [
    "rows = range(4)\n",
    "cols = range(1, 5)\n",
    "tokens = []\n",
    "for r, c in zip(rows, cols):\n",
    "    tokens.append(the_board[r][c])\n",
    "tokens"
   ]
  },
  {
   "cell_type": "code",
   "execution_count": null,
   "id": "d5f93a48-579b-48d4-9de5-7789a0516cf7",
   "metadata": {},
   "outputs": [],
   "source": []
  },
  {
   "cell_type": "code",
   "execution_count": null,
   "id": "5658238d-36e6-4a42-bec9-d8e7fd345a6a",
   "metadata": {},
   "outputs": [],
   "source": [
    "# First diagonal.\n",
    "rows = range(0, 4)   # the START value is 0, STOP is 4.\n",
    "cols = range(0, 4)\n",
    "list(zip(rows, cols))"
   ]
  },
  {
   "cell_type": "code",
   "execution_count": null,
   "id": "4012810b-5a70-453e-94a9-5817cb2d7a2a",
   "metadata": {},
   "outputs": [],
   "source": [
    "# Second diagonal.\n",
    "rows = range(0, 4)\n",
    "cols = range(1, 5)\n",
    "list(zip(rows, cols))"
   ]
  },
  {
   "cell_type": "code",
   "execution_count": null,
   "id": "27648bfc-9833-47a6-ba87-f95c46f07f6f",
   "metadata": {},
   "outputs": [],
   "source": [
    "# Third diagonal.\n",
    "rows = range(0, 4)\n",
    "cols = range(2, 6)\n",
    "list(zip(rows, cols))"
   ]
  },
  {
   "cell_type": "code",
   "execution_count": null,
   "id": "17eb88be-1419-46c0-a7c3-9b6610998353",
   "metadata": {},
   "outputs": [],
   "source": [
    "# Fourth diagonal.\n",
    "rows = range(0, 4)\n",
    "cols = range(3, 7)\n",
    "list(zip(rows, cols))"
   ]
  },
  {
   "cell_type": "code",
   "execution_count": null,
   "id": "2be2baa3-2e15-4911-9049-7ee483037b26",
   "metadata": {},
   "outputs": [],
   "source": [
    "tokens = []\n",
    "for r, c in zip(rows, cols):\n",
    "    tokens.append(the_board[r][c])\n",
    "tokens"
   ]
  },
  {
   "cell_type": "code",
   "execution_count": null,
   "id": "6ecb74ea-2ddc-4eba-af1e-122e019335c5",
   "metadata": {},
   "outputs": [],
   "source": [
    "the_board"
   ]
  },
  {
   "cell_type": "code",
   "execution_count": null,
   "id": "de4e2814-731a-4678-b3e6-8acb1593eda4",
   "metadata": {},
   "outputs": [],
   "source": [
    "diagonals = []\n",
    "\n",
    "rows = range(0, 4)\n",
    "start_col = 0\n",
    "stop_col = 4\n",
    "for r in rows:\n",
    "    cols = range(start_col, stop_col)\n",
    "    tokens = []\n",
    "    for r, c in zip(rows, cols):\n",
    "        tokens.append(the_board[r][c])\n",
    "    start_col = start_col + 1\n",
    "    stop_col = stop_col + 1\n",
    "    diagonals.append(\"\".join(tokens))"
   ]
  },
  {
   "cell_type": "code",
   "execution_count": null,
   "id": "c22c8b75-68b3-4e3c-8844-4872fdd63c95",
   "metadata": {},
   "outputs": [],
   "source": [
    "diagonals"
   ]
  },
  {
   "cell_type": "code",
   "execution_count": null,
   "id": "5fddf960-0c7e-49e9-b7fa-25ab1445ceac",
   "metadata": {},
   "outputs": [],
   "source": [
    "\"XXXX\" in diagonals"
   ]
  },
  {
   "cell_type": "code",
   "execution_count": null,
   "id": "476a5ee3-1d5f-4b38-a893-53fd63568a10",
   "metadata": {},
   "outputs": [],
   "source": [
    "\"OOOO\" in diagonals"
   ]
  },
  {
   "cell_type": "code",
   "execution_count": null,
   "id": "e4a51ee3-5cb0-4d5c-b4fb-ff4147f3b396",
   "metadata": {},
   "outputs": [],
   "source": [
    "diagonals = []\n",
    "\n",
    "start_row = 0\n",
    "stop_row = 4\n",
    "\n",
    "# From top-left corner.\n",
    "for _ in range(3):\n",
    "    rows = range(start_row, stop_row)\n",
    "    start_col = 0\n",
    "    stop_col = 4\n",
    "    for r in rows:\n",
    "        cols = range(start_col, stop_col)\n",
    "        tokens = []\n",
    "        for r, c in zip(rows, cols):\n",
    "            tokens.append(the_board[r][c])\n",
    "        start_col = start_col + 1\n",
    "        stop_col = stop_col + 1\n",
    "        diagonals.append(\"\".join(tokens))\n",
    "    start_row = start_row + 1"
   ]
  },
  {
   "cell_type": "code",
   "execution_count": null,
   "id": "3e45c997-2968-4993-8912-ba4bb11aee7d",
   "metadata": {},
   "outputs": [],
   "source": [
    "diagonals"
   ]
  },
  {
   "cell_type": "code",
   "execution_count": null,
   "id": "46bc5359-e049-4d80-a242-6a1f97be7502",
   "metadata": {},
   "outputs": [],
   "source": [
    "the_board"
   ]
  },
  {
   "cell_type": "code",
   "execution_count": null,
   "id": "6616a8a5-d7b9-4d43-af7f-d761e65595a0",
   "metadata": {},
   "outputs": [],
   "source": [
    "list(range(-1, -4, -1))"
   ]
  },
  {
   "cell_type": "code",
   "execution_count": null,
   "id": "c24aa2fc-120a-4344-a457-842757c86d99",
   "metadata": {},
   "outputs": [],
   "source": [
    "from connect4code import *"
   ]
  },
  {
   "cell_type": "code",
   "execution_count": null,
   "id": "86c4adcf-50ca-4d34-bb8a-7717ac166e9d",
   "metadata": {},
   "outputs": [],
   "source": [
    "display_board()"
   ]
  },
  {
   "cell_type": "code",
   "execution_count": null,
   "id": "46c8c9c0-e5b9-4d53-adb5-b6ee79731bd1",
   "metadata": {},
   "outputs": [],
   "source": [
    "diagonals = []\n",
    "\n",
    "# From bottom-left corner.\n",
    "\n",
    "start_row = -1\n",
    "stop_row = -4\n",
    "step = -1\n",
    "\n",
    "for _ in range(3):\n",
    "    rows = range(start_row, stop_row, step)\n",
    "    print(rows)\n",
    "\n",
    "    for r in rows:\n",
    "        start_col = 0\n",
    "        stop_col = 4\n",
    "        cols = range(start_col, stop_col)\n",
    "        print(cols)\n",
    "        tokens = []\n",
    "        for r, c in zip(rows, cols):\n",
    "            tokens.append(the_board[r][c])\n",
    "        start_col = start_col + 1\n",
    "        stop_col = stop_col + 1\n",
    "        diagonals.append(\"\".join(tokens))\n",
    "    start_row = start_row - 1"
   ]
  },
  {
   "cell_type": "code",
   "execution_count": null,
   "id": "860fa7f8-c671-480f-92b0-f0ad674d1eac",
   "metadata": {},
   "outputs": [],
   "source": [
    "drop_token(\"X\", 2)"
   ]
  },
  {
   "cell_type": "code",
   "execution_count": null,
   "id": "e263f466-d5d9-4bf9-8039-49b5c48c06b1",
   "metadata": {},
   "outputs": [],
   "source": [
    "# Stephen's code.\n",
    "\n",
    "rows = 6\n",
    "cols = 7\n",
    "\n",
    "output = \"\"\n",
    "direction = 1\n",
    "rows_start = 0\n",
    "rows_end = rows\n",
    "cols_start = 0\n",
    "cols_end = cols\n",
    " \n",
    "r = range(0, rows, direction)\n",
    "c = range(0, cols, direction)\n",
    "\n",
    "for bigRow in range(rows_start, rows_end, direction):\n",
    "    print(\"Next Row\")\n",
    "    r = range(bigRow, rows_end, direction)\n",
    "    if rows - bigRow < 4:\n",
    "        break\n",
    "    else:\n",
    "        for bigCol in range(cols_start, cols_end, direction):\n",
    "            print(\"Next Column\")\n",
    "            print(output)\n",
    "            output = \"\"\n",
    "            c = range(bigCol, cols_end, direction)\n",
    "            if cols - bigCol < 4:\n",
    "                break\n",
    "            for col, row in zip(c, r):\n",
    "                output = output + the_board[row][col]\n",
    " "
   ]
  },
  {
   "cell_type": "code",
   "execution_count": null,
   "id": "2e88b246-b930-4bfa-a621-9b7e7e0f39cc",
   "metadata": {},
   "outputs": [],
   "source": [
    "the_board"
   ]
  },
  {
   "cell_type": "code",
   "execution_count": null,
   "id": "2b1a6038-f2aa-45a9-b584-5a01be727bd1",
   "metadata": {},
   "outputs": [],
   "source": []
  }
 ],
 "metadata": {
  "kernelspec": {
   "display_name": "Python 3 (ipykernel)",
   "language": "python",
   "name": "python3"
  },
  "language_info": {
   "codemirror_mode": {
    "name": "ipython",
    "version": 3
   },
   "file_extension": ".py",
   "mimetype": "text/x-python",
   "name": "python",
   "nbconvert_exporter": "python",
   "pygments_lexer": "ipython3",
   "version": "3.13.5"
  }
 },
 "nbformat": 4,
 "nbformat_minor": 5
}
